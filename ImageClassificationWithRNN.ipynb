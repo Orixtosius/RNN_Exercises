{
  "nbformat": 4,
  "nbformat_minor": 0,
  "metadata": {
    "colab": {
      "name": "ImageClassificationWithRNN.ipynb",
      "provenance": [],
      "authorship_tag": "ABX9TyO8dHbFt01Zvm4/Hdr+8ER4",
      "include_colab_link": true
    },
    "kernelspec": {
      "name": "python3",
      "display_name": "Python 3"
    },
    "language_info": {
      "name": "python"
    },
    "accelerator": "GPU",
    "gpuClass": "standard"
  },
  "cells": [
    {
      "cell_type": "markdown",
      "metadata": {
        "id": "view-in-github",
        "colab_type": "text"
      },
      "source": [
        "<a href=\"https://colab.research.google.com/github/Orixtosius/RNN_Exercises/blob/main/ImageClassificationWithRNN.ipynb\" target=\"_parent\"><img src=\"https://colab.research.google.com/assets/colab-badge.svg\" alt=\"Open In Colab\"/></a>"
      ]
    },
    {
      "cell_type": "code",
      "execution_count": 22,
      "metadata": {
        "id": "Q4K6J9qUzobs"
      },
      "outputs": [],
      "source": [
        "import tensorflow as tf\n",
        "import numpy as np\n",
        "import matplotlib.pyplot as plt\n",
        "\n",
        "from tensorflow.keras.layers import Dense, Input, SimpleRNN, LSTM, GRU, GlobalMaxPool1D\n",
        "from tensorflow.keras.optimizers import Adam, RMSprop\n",
        "from tensorflow.keras.models import Model"
      ]
    },
    {
      "cell_type": "code",
      "source": [
        "(x_train, y_train), (x_test, y_test) =  tf.keras.datasets.mnist.load_data( path='mnist.npz')"
      ],
      "metadata": {
        "colab": {
          "base_uri": "https://localhost:8080/"
        },
        "id": "GZKqo-g_z0ej",
        "outputId": "95fb0367-d949-4ffc-ab3f-8741afc52a02"
      },
      "execution_count": 2,
      "outputs": [
        {
          "output_type": "stream",
          "name": "stdout",
          "text": [
            "Downloading data from https://storage.googleapis.com/tensorflow/tf-keras-datasets/mnist.npz\n",
            "11493376/11490434 [==============================] - 0s 0us/step\n",
            "11501568/11490434 [==============================] - 0s 0us/step\n"
          ]
        }
      ]
    },
    {
      "cell_type": "code",
      "source": [
        "plt.title(f\"The visual of number {y_train[1]}\")\n",
        "plt.imshow(x_train[1])"
      ],
      "metadata": {
        "colab": {
          "base_uri": "https://localhost:8080/",
          "height": 298
        },
        "id": "zTrSHd8w2ofb",
        "outputId": "8aabbd19-07cd-4a43-b8e8-930d37154fab"
      },
      "execution_count": 3,
      "outputs": [
        {
          "output_type": "execute_result",
          "data": {
            "text/plain": [
              "<matplotlib.image.AxesImage at 0x7fe435be2650>"
            ]
          },
          "metadata": {},
          "execution_count": 3
        },
        {
          "output_type": "display_data",
          "data": {
            "text/plain": [
              "<Figure size 432x288 with 1 Axes>"
            ],
            "image/png": "[encoded data removed]"
          },
          "metadata": {
            "needs_background": "light"
          }
        }
      ]
    },
    {
      "cell_type": "code",
      "source": [
        "M, T, D = x_train.shape \n",
        "K = 10"
      ],
      "metadata": {
        "id": "3hgEFEJ00t_T"
      },
      "execution_count": 4,
      "outputs": []
    },
    {
      "cell_type": "code",
      "source": [
        "print(f\"Shape of input training data is M: {M} - T:{T} - D:{D}\")"
      ],
      "metadata": {
        "colab": {
          "base_uri": "https://localhost:8080/"
        },
        "id": "V5_YO-oY4H4q",
        "outputId": "3fa0fe1b-1fb1-4468-cf6b-2d44c4204ff7"
      },
      "execution_count": 5,
      "outputs": [
        {
          "output_type": "stream",
          "name": "stdout",
          "text": [
            "Shape of input training data is M: 60000 - T:28 - D:28\n"
          ]
        }
      ]
    },
    {
      "cell_type": "code",
      "source": [
        "model = Model()\n",
        "i = Input(shape = (T,D))\n",
        "x = GRU(5)(i)\n",
        "x = Dense(K)(x)\n",
        "model = Model(i,x)\n",
        "model.compile( loss='sparse_categorical_crossentropy', optimizer='Adam', metrics=['accuracy'] )"
      ],
      "metadata": {
        "id": "TMlhTSFTAFzy"
      },
      "execution_count": 5,
      "outputs": []
    },
    {
      "cell_type": "code",
      "source": [
        "model = Model()\n",
        "i = Input(shape = (T,D))\n",
        "x = LSTM(7)(i)\n",
        "x = Dense(K)(x)\n",
        "model = Model(i,x)\n",
        "model.compile( loss='sparse_categorical_crossentropy', optimizer='Adam', metrics=['accuracy'] )"
      ],
      "metadata": {
        "id": "OOXon98WDL6Q"
      },
      "execution_count": 12,
      "outputs": []
    },
    {
      "cell_type": "code",
      "source": [
        "model = Model()\n",
        "i = Input(shape = (T,D))\n",
        "x = LSTM(3)(i)\n",
        "x = Dense(K)(x)\n",
        "model = Model(i,x)\n",
        "model.compile( loss='sparse_categorical_crossentropy', optimizer='Adam', metrics=['accuracy'] )"
      ],
      "metadata": {
        "id": "Qvu9N3MhDIYz"
      },
      "execution_count": 15,
      "outputs": []
    },
    {
      "cell_type": "code",
      "source": [
        "model = Model()\n",
        "i = Input(shape = (T,D))\n",
        "x = LSTM(5, return_sequences = True)(i)\n",
        "x = GlobalMaxPool1D()(x)\n",
        "x = Dense(K, activation = 'softmax')(x)\n",
        "model = Model(i,x)\n",
        "model.compile( loss='sparse_categorical_crossentropy', optimizer= 'RMSprop' , metrics=['accuracy'] )"
      ],
      "metadata": {
        "id": "vnrAJSreWheF"
      },
      "execution_count": 25,
      "outputs": []
    },
    {
      "cell_type": "code",
      "source": [
        "model = Model()\n",
        "i = Input(shape = (T,D))\n",
        "x = SimpleRNN(5)(i)\n",
        "x = Dense(K)(x)\n",
        "model = Model(i,x)\n",
        "model.compile( loss='sparse_categorical_crossentropy', optimizer='Adam', metrics=['accuracy'] )"
      ],
      "metadata": {
        "id": "JbfU0h2H0IAt"
      },
      "execution_count": 10,
      "outputs": []
    },
    {
      "cell_type": "code",
      "source": [
        "r = model.fit(x_train, y_train, epochs = 100, validation_split=0.5)"
      ],
      "metadata": {
        "id": "8L7BG-EO3NML"
      },
      "execution_count": null,
      "outputs": []
    },
    {
      "cell_type": "code",
      "source": [
        "r_simple = model.fit(x_train, y_train, epochs = 100, validation_split=0.5)"
      ],
      "metadata": {
        "id": "DbWuhKFuGAjq"
      },
      "execution_count": null,
      "outputs": []
    },
    {
      "cell_type": "code",
      "source": [
        "r_LSTM = model.fit(x_train, y_train, epochs = 100, validation_split=0.5)"
      ],
      "metadata": {
        "id": "OU3pXQ7nDPMP"
      },
      "execution_count": null,
      "outputs": []
    },
    {
      "cell_type": "code",
      "source": [
        "r_LSTM_Denser = model.fit(x_train, y_train, epochs = 100, validation_split=0.5)"
      ],
      "metadata": {
        "id": "Gqh24Q0HDSGf"
      },
      "execution_count": null,
      "outputs": []
    },
    {
      "cell_type": "code",
      "source": [
        "r_LSTM_3 = model.fit(x_train, y_train, epochs = 100, validation_split=0.5)"
      ],
      "metadata": {
        "id": "8nInBqylTtKP"
      },
      "execution_count": null,
      "outputs": []
    },
    {
      "cell_type": "code",
      "source": [
        "r_LSTM_With_Pooling = model.fit(x_train, y_train, epochs = 100, validation_split=0.5) "
      ],
      "metadata": {
        "colab": {
          "base_uri": "https://localhost:8080/"
        },
        "id": "tW5aaRoWXf6N",
        "outputId": "8da7be29-7dd9-477c-c25f-6091de7169f7"
      },
      "execution_count": 26,
      "outputs": [
        {
          "output_type": "stream",
          "name": "stdout",
          "text": [
            "Epoch 1/100\n",
            "938/938 [==============================] - 12s 11ms/step - loss: 2.2002 - accuracy: 0.2159 - val_loss: 2.0831 - val_accuracy: 0.3121\n",
            "Epoch 2/100\n",
            "938/938 [==============================] - 7s 7ms/step - loss: 1.9844 - accuracy: 0.3484 - val_loss: 1.8906 - val_accuracy: 0.3718\n",
            "Epoch 3/100\n",
            "938/938 [==============================] - 8s 8ms/step - loss: 1.8216 - accuracy: 0.3816 - val_loss: 1.7496 - val_accuracy: 0.3922\n",
            "Epoch 4/100\n",
            "938/938 [==============================] - 7s 7ms/step - loss: 1.6958 - accuracy: 0.4087 - val_loss: 1.6268 - val_accuracy: 0.4250\n",
            "Epoch 5/100\n",
            "938/938 [==============================] - 7s 7ms/step - loss: 1.5783 - accuracy: 0.4380 - val_loss: 1.5270 - val_accuracy: 0.4551\n",
            "Epoch 6/100\n",
            "938/938 [==============================] - 8s 8ms/step - loss: 1.4728 - accuracy: 0.4671 - val_loss: 1.4291 - val_accuracy: 0.4760\n",
            "Epoch 7/100\n",
            "938/938 [==============================] - 7s 7ms/step - loss: 1.3889 - accuracy: 0.5019 - val_loss: 1.3590 - val_accuracy: 0.5149\n",
            "Epoch 8/100\n",
            "938/938 [==============================] - 6s 7ms/step - loss: 1.3188 - accuracy: 0.5323 - val_loss: 1.2936 - val_accuracy: 0.5429\n",
            "Epoch 9/100\n",
            "938/938 [==============================] - 6s 7ms/step - loss: 1.2657 - accuracy: 0.5461 - val_loss: 1.2386 - val_accuracy: 0.5506\n",
            "Epoch 10/100\n",
            "938/938 [==============================] - 7s 7ms/step - loss: 1.2177 - accuracy: 0.5570 - val_loss: 1.2048 - val_accuracy: 0.5573\n",
            "Epoch 11/100\n",
            "938/938 [==============================] - 7s 7ms/step - loss: 1.1803 - accuracy: 0.5678 - val_loss: 1.1677 - val_accuracy: 0.5670\n",
            "Epoch 12/100\n",
            "938/938 [==============================] - 7s 7ms/step - loss: 1.1509 - accuracy: 0.5796 - val_loss: 1.1384 - val_accuracy: 0.5797\n",
            "Epoch 13/100\n",
            "938/938 [==============================] - 7s 7ms/step - loss: 1.1295 - accuracy: 0.5876 - val_loss: 1.1192 - val_accuracy: 0.5899\n",
            "Epoch 14/100\n",
            "938/938 [==============================] - 7s 7ms/step - loss: 1.1065 - accuracy: 0.5946 - val_loss: 1.1130 - val_accuracy: 0.5914\n",
            "Epoch 15/100\n",
            "938/938 [==============================] - 7s 7ms/step - loss: 1.0925 - accuracy: 0.6041 - val_loss: 1.1013 - val_accuracy: 0.6041\n",
            "Epoch 16/100\n",
            "938/938 [==============================] - 7s 7ms/step - loss: 1.0787 - accuracy: 0.6127 - val_loss: 1.0879 - val_accuracy: 0.6069\n",
            "Epoch 17/100\n",
            "938/938 [==============================] - 7s 7ms/step - loss: 1.0707 - accuracy: 0.6206 - val_loss: 1.0718 - val_accuracy: 0.6149\n",
            "Epoch 18/100\n",
            "938/938 [==============================] - 7s 7ms/step - loss: 1.0610 - accuracy: 0.6232 - val_loss: 1.0691 - val_accuracy: 0.6246\n",
            "Epoch 19/100\n",
            "938/938 [==============================] - 7s 7ms/step - loss: 1.0501 - accuracy: 0.6308 - val_loss: 1.0551 - val_accuracy: 0.6288\n",
            "Epoch 20/100\n",
            "938/938 [==============================] - 7s 7ms/step - loss: 1.0399 - accuracy: 0.6404 - val_loss: 1.0459 - val_accuracy: 0.6431\n",
            "Epoch 21/100\n",
            "938/938 [==============================] - 6s 7ms/step - loss: 1.0389 - accuracy: 0.6456 - val_loss: 1.0422 - val_accuracy: 0.6400\n",
            "Epoch 22/100\n",
            "938/938 [==============================] - 7s 8ms/step - loss: 1.0258 - accuracy: 0.6500 - val_loss: 1.0225 - val_accuracy: 0.6488\n",
            "Epoch 23/100\n",
            "938/938 [==============================] - 7s 7ms/step - loss: 1.0102 - accuracy: 0.6550 - val_loss: 1.0140 - val_accuracy: 0.6640\n",
            "Epoch 24/100\n",
            "938/938 [==============================] - 7s 8ms/step - loss: 0.9936 - accuracy: 0.6626 - val_loss: 0.9845 - val_accuracy: 0.6617\n",
            "Epoch 25/100\n",
            "938/938 [==============================] - 7s 7ms/step - loss: 0.9778 - accuracy: 0.6698 - val_loss: 0.9764 - val_accuracy: 0.6694\n",
            "Epoch 26/100\n",
            "938/938 [==============================] - 7s 7ms/step - loss: 0.9648 - accuracy: 0.6761 - val_loss: 0.9705 - val_accuracy: 0.6708\n",
            "Epoch 27/100\n",
            "938/938 [==============================] - 7s 7ms/step - loss: 0.9597 - accuracy: 0.6787 - val_loss: 0.9631 - val_accuracy: 0.6712\n",
            "Epoch 28/100\n",
            "938/938 [==============================] - 6s 7ms/step - loss: 0.9517 - accuracy: 0.6806 - val_loss: 0.9609 - val_accuracy: 0.6772\n",
            "Epoch 29/100\n",
            "938/938 [==============================] - 6s 7ms/step - loss: 0.9463 - accuracy: 0.6824 - val_loss: 0.9444 - val_accuracy: 0.6814\n",
            "Epoch 30/100\n",
            "938/938 [==============================] - 7s 7ms/step - loss: 0.9352 - accuracy: 0.6889 - val_loss: 0.9383 - val_accuracy: 0.6886\n",
            "Epoch 31/100\n",
            "938/938 [==============================] - 7s 7ms/step - loss: 0.9277 - accuracy: 0.6922 - val_loss: 0.9209 - val_accuracy: 0.6916\n",
            "Epoch 32/100\n",
            "938/938 [==============================] - 7s 7ms/step - loss: 0.9140 - accuracy: 0.6973 - val_loss: 0.9116 - val_accuracy: 0.6946\n",
            "Epoch 33/100\n",
            "938/938 [==============================] - 7s 7ms/step - loss: 0.9060 - accuracy: 0.6988 - val_loss: 0.9212 - val_accuracy: 0.6923\n",
            "Epoch 34/100\n",
            "938/938 [==============================] - 7s 8ms/step - loss: 0.9034 - accuracy: 0.7001 - val_loss: 0.9050 - val_accuracy: 0.6983\n",
            "Epoch 35/100\n",
            "938/938 [==============================] - 7s 7ms/step - loss: 0.8962 - accuracy: 0.7028 - val_loss: 0.9194 - val_accuracy: 0.6980\n",
            "Epoch 36/100\n",
            "938/938 [==============================] - 7s 7ms/step - loss: 0.8941 - accuracy: 0.7023 - val_loss: 0.9050 - val_accuracy: 0.6967\n",
            "Epoch 37/100\n",
            "938/938 [==============================] - 7s 7ms/step - loss: 0.8928 - accuracy: 0.7024 - val_loss: 0.8972 - val_accuracy: 0.7041\n",
            "Epoch 38/100\n",
            "938/938 [==============================] - 7s 7ms/step - loss: 0.8859 - accuracy: 0.7063 - val_loss: 0.9167 - val_accuracy: 0.6917\n",
            "Epoch 39/100\n",
            "938/938 [==============================] - 7s 7ms/step - loss: 0.8828 - accuracy: 0.7072 - val_loss: 0.8924 - val_accuracy: 0.6993\n",
            "Epoch 40/100\n",
            "938/938 [==============================] - 7s 7ms/step - loss: 0.8817 - accuracy: 0.7074 - val_loss: 0.8831 - val_accuracy: 0.7022\n",
            "Epoch 41/100\n",
            "938/938 [==============================] - 7s 7ms/step - loss: 0.8777 - accuracy: 0.7078 - val_loss: 0.8841 - val_accuracy: 0.7018\n",
            "Epoch 42/100\n",
            "938/938 [==============================] - 7s 7ms/step - loss: 0.8739 - accuracy: 0.7106 - val_loss: 0.8831 - val_accuracy: 0.7105\n",
            "Epoch 43/100\n",
            "938/938 [==============================] - 7s 7ms/step - loss: 0.8762 - accuracy: 0.7082 - val_loss: 0.8930 - val_accuracy: 0.7010\n",
            "Epoch 44/100\n",
            "938/938 [==============================] - 7s 7ms/step - loss: 0.8753 - accuracy: 0.7110 - val_loss: 0.8881 - val_accuracy: 0.7079\n",
            "Epoch 45/100\n",
            "938/938 [==============================] - 6s 7ms/step - loss: 0.8713 - accuracy: 0.7134 - val_loss: 0.8819 - val_accuracy: 0.7125\n",
            "Epoch 46/100\n",
            "938/938 [==============================] - 7s 7ms/step - loss: 0.8724 - accuracy: 0.7144 - val_loss: 0.8714 - val_accuracy: 0.7123\n",
            "Epoch 47/100\n",
            "938/938 [==============================] - 7s 7ms/step - loss: 0.8664 - accuracy: 0.7166 - val_loss: 0.8559 - val_accuracy: 0.7167\n",
            "Epoch 48/100\n",
            "938/938 [==============================] - 7s 7ms/step - loss: 0.8596 - accuracy: 0.7172 - val_loss: 0.8683 - val_accuracy: 0.7109\n",
            "Epoch 49/100\n",
            "938/938 [==============================] - 6s 7ms/step - loss: 0.8631 - accuracy: 0.7152 - val_loss: 0.8605 - val_accuracy: 0.7163\n",
            "Epoch 50/100\n",
            "938/938 [==============================] - 7s 7ms/step - loss: 0.8597 - accuracy: 0.7169 - val_loss: 0.8650 - val_accuracy: 0.7145\n",
            "Epoch 51/100\n",
            "938/938 [==============================] - 7s 7ms/step - loss: 0.8514 - accuracy: 0.7197 - val_loss: 0.8440 - val_accuracy: 0.7254\n",
            "Epoch 52/100\n",
            "938/938 [==============================] - 7s 7ms/step - loss: 0.8530 - accuracy: 0.7194 - val_loss: 0.8707 - val_accuracy: 0.7127\n",
            "Epoch 53/100\n",
            "938/938 [==============================] - 7s 7ms/step - loss: 0.8554 - accuracy: 0.7209 - val_loss: 0.8826 - val_accuracy: 0.7104\n",
            "Epoch 54/100\n",
            "938/938 [==============================] - 7s 7ms/step - loss: 0.8518 - accuracy: 0.7228 - val_loss: 0.8634 - val_accuracy: 0.7080\n",
            "Epoch 55/100\n",
            "938/938 [==============================] - 7s 8ms/step - loss: 0.8574 - accuracy: 0.7225 - val_loss: 0.8443 - val_accuracy: 0.7265\n",
            "Epoch 56/100\n",
            "938/938 [==============================] - 7s 7ms/step - loss: 0.8493 - accuracy: 0.7249 - val_loss: 0.8420 - val_accuracy: 0.7287\n",
            "Epoch 57/100\n",
            "938/938 [==============================] - 7s 7ms/step - loss: 0.8497 - accuracy: 0.7237 - val_loss: 0.8586 - val_accuracy: 0.7210\n",
            "Epoch 58/100\n",
            "938/938 [==============================] - 7s 7ms/step - loss: 0.8494 - accuracy: 0.7251 - val_loss: 0.8459 - val_accuracy: 0.7296\n",
            "Epoch 59/100\n",
            "938/938 [==============================] - 7s 7ms/step - loss: 0.8494 - accuracy: 0.7252 - val_loss: 0.8437 - val_accuracy: 0.7188\n",
            "Epoch 60/100\n",
            "938/938 [==============================] - 7s 7ms/step - loss: 0.8439 - accuracy: 0.7268 - val_loss: 0.8495 - val_accuracy: 0.7208\n",
            "Epoch 61/100\n",
            "938/938 [==============================] - 7s 7ms/step - loss: 0.8481 - accuracy: 0.7285 - val_loss: 0.8586 - val_accuracy: 0.7163\n",
            "Epoch 62/100\n",
            "938/938 [==============================] - 7s 7ms/step - loss: 0.8441 - accuracy: 0.7268 - val_loss: 0.8580 - val_accuracy: 0.7119\n",
            "Epoch 63/100\n",
            "938/938 [==============================] - 6s 7ms/step - loss: 0.8361 - accuracy: 0.7297 - val_loss: 0.8349 - val_accuracy: 0.7296\n",
            "Epoch 64/100\n",
            "938/938 [==============================] - 7s 7ms/step - loss: 0.8344 - accuracy: 0.7315 - val_loss: 0.8299 - val_accuracy: 0.7349\n",
            "Epoch 65/100\n",
            "938/938 [==============================] - 7s 7ms/step - loss: 0.8325 - accuracy: 0.7306 - val_loss: 0.8253 - val_accuracy: 0.7310\n",
            "Epoch 66/100\n",
            "938/938 [==============================] - 7s 7ms/step - loss: 0.8359 - accuracy: 0.7319 - val_loss: 0.8412 - val_accuracy: 0.7274\n",
            "Epoch 67/100\n",
            "938/938 [==============================] - 7s 7ms/step - loss: 0.8286 - accuracy: 0.7333 - val_loss: 0.8266 - val_accuracy: 0.7277\n",
            "Epoch 68/100\n",
            "938/938 [==============================] - 7s 7ms/step - loss: 0.8308 - accuracy: 0.7344 - val_loss: 0.8372 - val_accuracy: 0.7256\n",
            "Epoch 69/100\n",
            "938/938 [==============================] - 7s 7ms/step - loss: 0.8274 - accuracy: 0.7344 - val_loss: 0.8276 - val_accuracy: 0.7297\n",
            "Epoch 70/100\n",
            "938/938 [==============================] - 7s 7ms/step - loss: 0.8305 - accuracy: 0.7348 - val_loss: 0.8314 - val_accuracy: 0.7244\n",
            "Epoch 71/100\n",
            "938/938 [==============================] - 6s 7ms/step - loss: 0.8285 - accuracy: 0.7348 - val_loss: 0.8227 - val_accuracy: 0.7361\n",
            "Epoch 72/100\n",
            "938/938 [==============================] - 7s 8ms/step - loss: 0.8283 - accuracy: 0.7353 - val_loss: 0.8366 - val_accuracy: 0.7288\n",
            "Epoch 73/100\n",
            "938/938 [==============================] - 7s 7ms/step - loss: 0.8233 - accuracy: 0.7400 - val_loss: 0.8205 - val_accuracy: 0.7330\n",
            "Epoch 74/100\n",
            "938/938 [==============================] - 7s 7ms/step - loss: 0.8226 - accuracy: 0.7348 - val_loss: 0.8246 - val_accuracy: 0.7365\n",
            "Epoch 75/100\n",
            "938/938 [==============================] - 7s 7ms/step - loss: 0.8270 - accuracy: 0.7359 - val_loss: 0.8278 - val_accuracy: 0.7257\n",
            "Epoch 76/100\n",
            "938/938 [==============================] - 7s 7ms/step - loss: 0.8254 - accuracy: 0.7379 - val_loss: 0.8415 - val_accuracy: 0.7133\n",
            "Epoch 77/100\n",
            "938/938 [==============================] - 6s 7ms/step - loss: 0.8216 - accuracy: 0.7374 - val_loss: 0.8271 - val_accuracy: 0.7357\n",
            "Epoch 78/100\n",
            "938/938 [==============================] - 6s 7ms/step - loss: 0.8294 - accuracy: 0.7371 - val_loss: 0.8574 - val_accuracy: 0.7116\n",
            "Epoch 79/100\n",
            "938/938 [==============================] - 7s 7ms/step - loss: 0.8201 - accuracy: 0.7391 - val_loss: 0.8053 - val_accuracy: 0.7461\n",
            "Epoch 80/100\n",
            "938/938 [==============================] - 6s 7ms/step - loss: 0.8200 - accuracy: 0.7390 - val_loss: 0.8204 - val_accuracy: 0.7410\n",
            "Epoch 81/100\n",
            "938/938 [==============================] - 7s 7ms/step - loss: 0.8250 - accuracy: 0.7377 - val_loss: 0.8187 - val_accuracy: 0.7352\n",
            "Epoch 82/100\n",
            "938/938 [==============================] - 6s 7ms/step - loss: 0.8176 - accuracy: 0.7429 - val_loss: 0.8162 - val_accuracy: 0.7353\n",
            "Epoch 83/100\n",
            "938/938 [==============================] - 7s 7ms/step - loss: 0.8360 - accuracy: 0.7367 - val_loss: 0.8469 - val_accuracy: 0.7327\n",
            "Epoch 84/100\n",
            "938/938 [==============================] - 6s 7ms/step - loss: 0.8175 - accuracy: 0.7419 - val_loss: 0.8204 - val_accuracy: 0.7349\n",
            "Epoch 85/100\n",
            "938/938 [==============================] - 7s 7ms/step - loss: 0.8152 - accuracy: 0.7419 - val_loss: 0.8254 - val_accuracy: 0.7320\n",
            "Epoch 86/100\n",
            "938/938 [==============================] - 7s 7ms/step - loss: 0.8189 - accuracy: 0.7431 - val_loss: 0.8694 - val_accuracy: 0.7219\n",
            "Epoch 87/100\n",
            "938/938 [==============================] - 7s 7ms/step - loss: 0.8142 - accuracy: 0.7422 - val_loss: 0.8150 - val_accuracy: 0.7409\n",
            "Epoch 88/100\n",
            "938/938 [==============================] - 7s 7ms/step - loss: 0.8149 - accuracy: 0.7447 - val_loss: 0.8153 - val_accuracy: 0.7404\n",
            "Epoch 89/100\n",
            "938/938 [==============================] - 7s 8ms/step - loss: 0.8056 - accuracy: 0.7430 - val_loss: 0.8122 - val_accuracy: 0.7443\n",
            "Epoch 90/100\n",
            "938/938 [==============================] - 7s 7ms/step - loss: 0.8057 - accuracy: 0.7449 - val_loss: 0.8149 - val_accuracy: 0.7413\n",
            "Epoch 91/100\n",
            "938/938 [==============================] - 7s 7ms/step - loss: 0.8022 - accuracy: 0.7456 - val_loss: 0.8147 - val_accuracy: 0.7427\n",
            "Epoch 92/100\n",
            "938/938 [==============================] - 7s 7ms/step - loss: 0.8061 - accuracy: 0.7434 - val_loss: 0.8397 - val_accuracy: 0.7195\n",
            "Epoch 93/100\n",
            "938/938 [==============================] - 7s 7ms/step - loss: 0.8223 - accuracy: 0.7416 - val_loss: 0.8103 - val_accuracy: 0.7394\n",
            "Epoch 94/100\n",
            "938/938 [==============================] - 7s 7ms/step - loss: 0.8043 - accuracy: 0.7453 - val_loss: 0.8048 - val_accuracy: 0.7446\n",
            "Epoch 95/100\n",
            "938/938 [==============================] - 6s 7ms/step - loss: 0.8194 - accuracy: 0.7404 - val_loss: 0.8408 - val_accuracy: 0.7321\n",
            "Epoch 96/100\n",
            "938/938 [==============================] - 7s 7ms/step - loss: 0.8150 - accuracy: 0.7413 - val_loss: 0.8021 - val_accuracy: 0.7466\n",
            "Epoch 97/100\n",
            "938/938 [==============================] - 6s 7ms/step - loss: 0.8014 - accuracy: 0.7431 - val_loss: 0.7965 - val_accuracy: 0.7449\n",
            "Epoch 98/100\n",
            "938/938 [==============================] - 7s 7ms/step - loss: 0.8074 - accuracy: 0.7438 - val_loss: 0.8647 - val_accuracy: 0.7183\n",
            "Epoch 99/100\n",
            "938/938 [==============================] - 6s 7ms/step - loss: 0.8291 - accuracy: 0.7403 - val_loss: 0.8376 - val_accuracy: 0.7339\n",
            "Epoch 100/100\n",
            "938/938 [==============================] - 7s 7ms/step - loss: 0.8076 - accuracy: 0.7462 - val_loss: 0.8211 - val_accuracy: 0.7320\n"
          ]
        }
      ]
    },
    {
      "cell_type": "code",
      "source": [
        "plt.title(\"MNIST Dataset Training Accuracy\")\n",
        "plt.plot(r_simple.history['val_accuracy'], label = 'Accuracy of SimpleRNN on Validation Data')\n",
        "plt.plot(r_LSTM.history['val_accuracy'], label = 'Accuracy of LSTM(5) on Validation Data')\n",
        "plt.plot(r_LSTM_Denser.history['val_accuracy'], label = 'Accuracy of LSTM(7) on Validation Data')\n",
        "plt.plot(r.history['val_accuracy'], label = 'Accuracy of GRU(5) on Validation Data')\n",
        "plt.plot(r_LSTM_With_Pooling.history['val_accuracy'], label = 'Accuracy of LSTM(5) with GlobalMaxPooling1D on Validation Data')\n",
        "plt.plot(r_LSTM_3.history['val_accuracy'], label = 'Accuracy of LSTM(3) on Validation Data')\n",
        "plt.legend()\n",
        "plt.show()"
      ],
      "metadata": {
        "colab": {
          "base_uri": "https://localhost:8080/",
          "height": 281
        },
        "id": "88woofGm4hHT",
        "outputId": "7d5becd5-c4f9-4977-e131-ba6798fff5a2"
      },
      "execution_count": 27,
      "outputs": [
        {
          "output_type": "display_data",
          "data": {
            "text/plain": [
              "<Figure size 432x288 with 1 Axes>"
            ],
            "image/png": "[encoded data removed]"
          },
          "metadata": {
            "needs_background": "light"
          }
        }
      ]
    },
    {
      "cell_type": "code",
      "source": [
        ""
      ],
      "metadata": {
        "id": "Gds4wf0c45ZE"
      },
      "execution_count": null,
      "outputs": []
    }
  ]
}