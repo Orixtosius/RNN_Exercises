{
  "nbformat": 4,
  "nbformat_minor": 0,
  "metadata": {
    "colab": {
      "name": "SensitivityAnalysisForNewHeadlines",
      "provenance": [],
      "authorship_tag": "ABX9TyPNjbMQxTv/zLwVM3eqYij8",
      "include_colab_link": true
    },
    "kernelspec": {
      "name": "python3",
      "display_name": "Python 3"
    },
    "language_info": {
      "name": "python"
    }
  },
  "cells": [
    {
      "cell_type": "markdown",
      "metadata": {
        "id": "view-in-github",
        "colab_type": "text"
      },
      "source": [
        "<a href=\"https://colab.research.google.com/github/Orixtosius/RNN_Exercises/blob/main/SensitivityAnalysisForNewHeadlines.ipynb\" target=\"_parent\"><img src=\"https://colab.research.google.com/assets/colab-badge.svg\" alt=\"Open In Colab\"/></a>"
      ]
    },
    {
      "cell_type": "code",
      "source": [
        "! pip install kaggle\n",
        "! mkdir ~/.kaggle\n",
        "! cp kaggle.json ~/.kaggle/\n",
        "! chmod 600 ~/.kaggle/kaggle.json"
      ],
      "metadata": {
        "id": "0kgysmW5ySBQ",
        "colab": {
          "base_uri": "https://localhost:8080/"
        },
        "outputId": "6c8d95e6-e3be-42a5-d80b-caa6ea45ee22"
      },
      "execution_count": 4,
      "outputs": [
        {
          "output_type": "stream",
          "name": "stdout",
          "text": [
            "Looking in indexes: https://pypi.org/simple, https://us-python.pkg.dev/colab-wheels/public/simple/\n",
            "Requirement already satisfied: kaggle in /usr/local/lib/python3.7/dist-packages (1.5.12)\n",
            "Requirement already satisfied: python-dateutil in /usr/local/lib/python3.7/dist-packages (from kaggle) (2.8.2)\n",
            "Requirement already satisfied: requests in /usr/local/lib/python3.7/dist-packages (from kaggle) (2.23.0)\n",
            "Requirement already satisfied: certifi in /usr/local/lib/python3.7/dist-packages (from kaggle) (2022.6.15)\n",
            "Requirement already satisfied: tqdm in /usr/local/lib/python3.7/dist-packages (from kaggle) (4.64.0)\n",
            "Requirement already satisfied: urllib3 in /usr/local/lib/python3.7/dist-packages (from kaggle) (1.24.3)\n",
            "Requirement already satisfied: six>=1.10 in /usr/local/lib/python3.7/dist-packages (from kaggle) (1.15.0)\n",
            "Requirement already satisfied: python-slugify in /usr/local/lib/python3.7/dist-packages (from kaggle) (6.1.2)\n",
            "Requirement already satisfied: text-unidecode>=1.3 in /usr/local/lib/python3.7/dist-packages (from python-slugify->kaggle) (1.3)\n",
            "Requirement already satisfied: idna<3,>=2.5 in /usr/local/lib/python3.7/dist-packages (from requests->kaggle) (2.10)\n",
            "Requirement already satisfied: chardet<4,>=3.0.2 in /usr/local/lib/python3.7/dist-packages (from requests->kaggle) (3.0.4)\n",
            "mkdir: cannot create directory ‘/root/.kaggle’: File exists\n"
          ]
        }
      ]
    },
    {
      "cell_type": "code",
      "source": [
        "! kaggle datasets download ankurzing/sentiment-analysis-for-financial-news"
      ],
      "metadata": {
        "colab": {
          "base_uri": "https://localhost:8080/"
        },
        "id": "YlCGuNzd497w",
        "outputId": "6a1529bb-bd87-4fe7-cbbb-f674b89c529d"
      },
      "execution_count": 5,
      "outputs": [
        {
          "output_type": "stream",
          "name": "stdout",
          "text": [
            "Downloading sentiment-analysis-for-financial-news.zip to /content\n",
            "\r  0% 0.00/903k [00:00<?, ?B/s]\n",
            "\r100% 903k/903k [00:00<00:00, 122MB/s]\n"
          ]
        }
      ]
    },
    {
      "cell_type": "code",
      "source": [
        "! unzip sentiment-analysis-for-financial-news.zip"
      ],
      "metadata": {
        "colab": {
          "base_uri": "https://localhost:8080/"
        },
        "id": "KGQqnFAb5WJw",
        "outputId": "123906cb-7d15-465d-fef6-fcbf0e4a4923"
      },
      "execution_count": 7,
      "outputs": [
        {
          "output_type": "stream",
          "name": "stdout",
          "text": [
            "Archive:  sentiment-analysis-for-financial-news.zip\n",
            "  inflating: FinancialPhraseBank/License.txt  \n",
            "  inflating: FinancialPhraseBank/README.txt  \n",
            "  inflating: FinancialPhraseBank/Sentences_50Agree.txt  \n",
            "  inflating: FinancialPhraseBank/Sentences_66Agree.txt  \n",
            "  inflating: FinancialPhraseBank/Sentences_75Agree.txt  \n",
            "  inflating: FinancialPhraseBank/Sentences_AllAgree.txt  \n",
            "  inflating: all-data.csv            \n"
          ]
        }
      ]
    },
    {
      "cell_type": "code",
      "source": [
        "import numpy as np\n",
        "import pandas as pd\n",
        "import matplotlib.pyplot as plt\n",
        "from sklearn.model_selection import train_test_split\n",
        "\n",
        "from tensorflow.keras.preprocessing.text import Tokenizer\n",
        "from tensorflow.keras.preprocessing.sequence import pad_sequences\n",
        "\n",
        "from tensorflow.keras.layers import Dense, LSTM,  Input, Embedding, GlobalAveragePooling1D\n",
        "from tensorflow.keras.models import Model"
      ],
      "metadata": {
        "id": "dJEkquCn5iHX"
      },
      "execution_count": 79,
      "outputs": []
    },
    {
      "cell_type": "code",
      "source": [
        "df = pd.read_csv('/content/FinancialPhraseBank/Sentences_50Agree.txt',sep='.@', encoding='latin-1', header = None)"
      ],
      "metadata": {
        "colab": {
          "base_uri": "https://localhost:8080/"
        },
        "id": "_YaCWykr5l6s",
        "outputId": "f464ef77-9660-46a0-9839-bb42c1c09b88"
      },
      "execution_count": 109,
      "outputs": [
        {
          "output_type": "stream",
          "name": "stderr",
          "text": [
            "/usr/local/lib/python3.7/dist-packages/pandas/util/_decorators.py:311: ParserWarning: Falling back to the 'python' engine because the 'c' engine does not support regex separators (separators > 1 char and different from '\\s+' are interpreted as regex); you can avoid this warning by specifying engine='python'.\n",
            "  return func(*args, **kwargs)\n"
          ]
        }
      ]
    },
    {
      "cell_type": "code",
      "source": [
        "df"
      ],
      "metadata": {
        "id": "3NkaAmIU5p4p"
      },
      "execution_count": null,
      "outputs": []
    },
    {
      "cell_type": "code",
      "source": [
        "df.applymap(lambda x: x.strip() if isinstance(x, str) else x)\n",
        "df"
      ],
      "metadata": {
        "id": "dhaUNhCk_1Bf"
      },
      "execution_count": null,
      "outputs": []
    },
    {
      "cell_type": "code",
      "source": [
        "df.rename(columns = {0:'Sentence', 1:'Sentiment'}, inplace = True)\n",
        "df"
      ],
      "metadata": {
        "id": "PO_qDtiq6YaQ"
      },
      "execution_count": null,
      "outputs": []
    },
    {
      "cell_type": "code",
      "source": [
        "df['Sentiment_Numerical'] = df['Sentiment'].map({'neutral':0, 'positive':1,'negative':2})\n",
        "Y = df['Sentiment_Numerical'].values\n",
        "print(Y)\n",
        "df"
      ],
      "metadata": {
        "id": "dCG-I-mw6ymm"
      },
      "execution_count": null,
      "outputs": []
    },
    {
      "cell_type": "code",
      "source": [
        "plt.hist(df['Sentiment_Numerical'])"
      ],
      "metadata": {
        "id": "4L0Rohmg-5I0"
      },
      "execution_count": null,
      "outputs": []
    },
    {
      "cell_type": "code",
      "source": [
        "df_train, df_test, Y_train, Y_test = train_test_split(df['Sentence'], Y, test_size = 0.3)\n",
        "# Split given X into train and test. The same for Y too."
      ],
      "metadata": {
        "id": "M7kKC4Pn--AB"
      },
      "execution_count": 114,
      "outputs": []
    },
    {
      "cell_type": "code",
      "source": [
        "tok = Tokenizer(num_words = 10000)\n",
        "tok.fit_on_texts(df_train)\n",
        "seq_train = tok.texts_to_sequences(df_train)\n",
        "seq_test = tok.texts_to_sequences(df_test)"
      ],
      "metadata": {
        "id": "6faXQ_qm_qHQ"
      },
      "execution_count": 115,
      "outputs": []
    },
    {
      "cell_type": "code",
      "source": [
        "print(f'Lenght of different sentences as sequence list: \\n{len(seq_train[0])}\\n{len(seq_train[1])}\\n{len(seq_train[2])}')"
      ],
      "metadata": {
        "colab": {
          "base_uri": "https://localhost:8080/"
        },
        "id": "TV-yldCs_sKD",
        "outputId": "b1f0b31e-adc9-4c68-efb6-d3e4cda283f4"
      },
      "execution_count": 116,
      "outputs": [
        {
          "output_type": "stream",
          "name": "stdout",
          "text": [
            "Lenght of different sentences as sequence list: \n",
            "19\n",
            "14\n",
            "20\n"
          ]
        }
      ]
    },
    {
      "cell_type": "code",
      "source": [
        "word2idx = tok.word_index\n",
        "V = len(word2idx)\n",
        "V"
      ],
      "metadata": {
        "colab": {
          "base_uri": "https://localhost:8080/"
        },
        "id": "GvY6K0rzBQdk",
        "outputId": "5643074a-b84a-48fe-da90-ae9451b7b847"
      },
      "execution_count": 117,
      "outputs": [
        {
          "output_type": "execute_result",
          "data": {
            "text/plain": [
              "8380"
            ]
          },
          "metadata": {},
          "execution_count": 117
        }
      ]
    },
    {
      "cell_type": "code",
      "source": [
        "data_train = pad_sequences(seq_train, padding = 'post')\n",
        "data_test = pad_sequences(seq_test, padding = 'post')"
      ],
      "metadata": {
        "id": "QXz0UiXWB40m"
      },
      "execution_count": 118,
      "outputs": []
    },
    {
      "cell_type": "code",
      "source": [
        "print(f'Compare shapes {data_train.shape} - {data_test.shape} ')\n",
        "# THE purpose is matching lenght of T\n",
        "# In this example, the data wanted to be formed in format of N x T\n",
        "N, T = data_train.shape"
      ],
      "metadata": {
        "colab": {
          "base_uri": "https://localhost:8080/"
        },
        "id": "kTaXgCOHCb3n",
        "outputId": "a75a18a9-1f81-4ac9-9a90-02fa102fcfd1"
      },
      "execution_count": 119,
      "outputs": [
        {
          "output_type": "stream",
          "name": "stdout",
          "text": [
            "Compare shapes (3392, 71) - (1454, 50) \n"
          ]
        }
      ]
    },
    {
      "cell_type": "code",
      "source": [
        "data_test = pad_sequences(seq_test, padding = 'post', maxlen = T)"
      ],
      "metadata": {
        "id": "NH9moAp8CgBX"
      },
      "execution_count": 120,
      "outputs": []
    },
    {
      "cell_type": "code",
      "source": [
        "print(f'New Comparaison shapes {data_train.shape} - {data_test.shape} ')"
      ],
      "metadata": {
        "colab": {
          "base_uri": "https://localhost:8080/"
        },
        "id": "lbWY-0_DDL7Q",
        "outputId": "bf417841-f718-4178-b1db-4bc778c695f3"
      },
      "execution_count": 121,
      "outputs": [
        {
          "output_type": "stream",
          "name": "stdout",
          "text": [
            "New Comparaison shapes (3392, 71) - (1454, 71) \n"
          ]
        }
      ]
    },
    {
      "cell_type": "code",
      "source": [
        "# Embedding dimensionality \n",
        "D = 10\n",
        "\n",
        "#T is given above\n",
        "\n",
        "# hidden unit\n",
        "M = 5\n",
        "\n",
        "#output unit cuz values are {-1, 0, 1}\n",
        "K = 3"
      ],
      "metadata": {
        "id": "3JdiaRzODQia"
      },
      "execution_count": 122,
      "outputs": []
    },
    {
      "cell_type": "code",
      "source": [
        "print(f'Shape of datas {data_train.shape} - {Y_train.shape} - {data_test.shape} - {Y_test.shape}')"
      ],
      "metadata": {
        "colab": {
          "base_uri": "https://localhost:8080/"
        },
        "id": "2wMsFFraG19d",
        "outputId": "857d1426-39dc-431b-ae9e-a174bdb088ae"
      },
      "execution_count": 123,
      "outputs": [
        {
          "output_type": "stream",
          "name": "stdout",
          "text": [
            "Shape of datas (3392, 71) - (3392,) - (1454, 71) - (1454,)\n"
          ]
        }
      ]
    },
    {
      "cell_type": "code",
      "source": [
        "i = Input(shape = (T,))\n",
        "e = Embedding(V+1, D)(i)\n",
        "l = LSTM(M, return_sequences = True)(e)\n",
        "gm = GlobalAveragePooling1D()(l)\n",
        "d = Dense(K, activation = 'softmax' )(gm)"
      ],
      "metadata": {
        "id": "VcgjPhzlDrG2"
      },
      "execution_count": 125,
      "outputs": []
    },
    {
      "cell_type": "code",
      "source": [
        "model = Model(i, d)\n",
        "model.compile( loss= 'sparse_categorical_crossentropy', metrics = ['accuracy'], optimizer = 'adam')"
      ],
      "metadata": {
        "id": "yRQ9kv9-EmUN"
      },
      "execution_count": 126,
      "outputs": []
    },
    {
      "cell_type": "code",
      "source": [
        "r = model.fit(data_train, Y_train, epochs = 50,validation_data = (data_test, Y_test))"
      ],
      "metadata": {
        "colab": {
          "base_uri": "https://localhost:8080/"
        },
        "id": "Fae4lUO0FHOV",
        "outputId": "10acb56c-be32-4b0f-d19b-5d57495fc831"
      },
      "execution_count": 127,
      "outputs": [
        {
          "output_type": "stream",
          "name": "stdout",
          "text": [
            "Epoch 1/50\n",
            "106/106 [==============================] - 5s 27ms/step - loss: 1.0187 - accuracy: 0.5737 - val_loss: 0.9263 - val_accuracy: 0.5894\n",
            "Epoch 2/50\n",
            "106/106 [==============================] - 2s 22ms/step - loss: 0.8868 - accuracy: 0.5964 - val_loss: 0.8660 - val_accuracy: 0.5990\n",
            "Epoch 3/50\n",
            "106/106 [==============================] - 2s 22ms/step - loss: 0.7314 - accuracy: 0.7070 - val_loss: 0.8195 - val_accuracy: 0.6706\n",
            "Epoch 4/50\n",
            "106/106 [==============================] - 2s 22ms/step - loss: 0.6496 - accuracy: 0.7653 - val_loss: 0.8101 - val_accuracy: 0.6630\n",
            "Epoch 5/50\n",
            "106/106 [==============================] - 2s 22ms/step - loss: 0.5681 - accuracy: 0.7957 - val_loss: 0.8387 - val_accuracy: 0.6451\n",
            "Epoch 6/50\n",
            "106/106 [==============================] - 2s 22ms/step - loss: 0.4993 - accuracy: 0.8264 - val_loss: 0.8581 - val_accuracy: 0.6671\n",
            "Epoch 7/50\n",
            "106/106 [==============================] - 2s 22ms/step - loss: 0.4506 - accuracy: 0.8390 - val_loss: 0.8895 - val_accuracy: 0.6678\n",
            "Epoch 8/50\n",
            "106/106 [==============================] - 2s 22ms/step - loss: 0.4268 - accuracy: 0.8438 - val_loss: 0.9313 - val_accuracy: 0.6486\n",
            "Epoch 9/50\n",
            "106/106 [==============================] - 2s 22ms/step - loss: 0.4028 - accuracy: 0.8502 - val_loss: 0.9685 - val_accuracy: 0.6561\n",
            "Epoch 10/50\n",
            "106/106 [==============================] - 2s 22ms/step - loss: 0.3842 - accuracy: 0.8558 - val_loss: 0.9684 - val_accuracy: 0.6768\n",
            "Epoch 11/50\n",
            "106/106 [==============================] - 2s 22ms/step - loss: 0.3623 - accuracy: 0.8600 - val_loss: 1.0199 - val_accuracy: 0.6616\n",
            "Epoch 12/50\n",
            "106/106 [==============================] - 2s 22ms/step - loss: 0.3425 - accuracy: 0.8638 - val_loss: 1.0623 - val_accuracy: 0.6596\n",
            "Epoch 13/50\n",
            "106/106 [==============================] - 2s 23ms/step - loss: 0.3252 - accuracy: 0.8676 - val_loss: 1.1140 - val_accuracy: 0.6534\n",
            "Epoch 14/50\n",
            "106/106 [==============================] - 2s 22ms/step - loss: 0.3172 - accuracy: 0.8682 - val_loss: 1.1215 - val_accuracy: 0.6616\n",
            "Epoch 15/50\n",
            "106/106 [==============================] - 3s 31ms/step - loss: 0.3167 - accuracy: 0.8656 - val_loss: 1.1492 - val_accuracy: 0.6589\n",
            "Epoch 16/50\n",
            "106/106 [==============================] - 2s 22ms/step - loss: 0.3403 - accuracy: 0.8582 - val_loss: 1.2670 - val_accuracy: 0.6348\n",
            "Epoch 17/50\n",
            "106/106 [==============================] - 2s 22ms/step - loss: 0.3095 - accuracy: 0.8638 - val_loss: 1.2393 - val_accuracy: 0.6382\n",
            "Epoch 18/50\n",
            "106/106 [==============================] - 2s 22ms/step - loss: 0.2764 - accuracy: 0.8703 - val_loss: 1.2021 - val_accuracy: 0.6472\n",
            "Epoch 19/50\n",
            "106/106 [==============================] - 2s 22ms/step - loss: 0.2530 - accuracy: 0.8753 - val_loss: 1.2873 - val_accuracy: 0.6444\n",
            "Epoch 20/50\n",
            "106/106 [==============================] - 2s 22ms/step - loss: 0.2354 - accuracy: 0.8915 - val_loss: 1.1928 - val_accuracy: 0.6362\n",
            "Epoch 21/50\n",
            "106/106 [==============================] - 2s 23ms/step - loss: 0.2099 - accuracy: 0.9351 - val_loss: 1.3491 - val_accuracy: 0.6472\n",
            "Epoch 22/50\n",
            "106/106 [==============================] - 2s 23ms/step - loss: 0.1760 - accuracy: 0.9596 - val_loss: 1.3395 - val_accuracy: 0.6499\n",
            "Epoch 23/50\n",
            "106/106 [==============================] - 2s 23ms/step - loss: 0.2102 - accuracy: 0.9511 - val_loss: 1.4385 - val_accuracy: 0.6596\n",
            "Epoch 24/50\n",
            "106/106 [==============================] - 2s 22ms/step - loss: 0.1592 - accuracy: 0.9631 - val_loss: 1.4016 - val_accuracy: 0.6437\n",
            "Epoch 25/50\n",
            "106/106 [==============================] - 2s 22ms/step - loss: 0.1248 - accuracy: 0.9773 - val_loss: 1.5077 - val_accuracy: 0.6451\n",
            "Epoch 26/50\n",
            "106/106 [==============================] - 2s 22ms/step - loss: 0.1095 - accuracy: 0.9826 - val_loss: 1.5082 - val_accuracy: 0.6479\n",
            "Epoch 27/50\n",
            "106/106 [==============================] - 2s 22ms/step - loss: 0.0947 - accuracy: 0.9829 - val_loss: 1.5758 - val_accuracy: 0.6499\n",
            "Epoch 28/50\n",
            "106/106 [==============================] - 2s 22ms/step - loss: 0.0966 - accuracy: 0.9779 - val_loss: 1.5180 - val_accuracy: 0.6417\n",
            "Epoch 29/50\n",
            "106/106 [==============================] - 2s 23ms/step - loss: 0.0856 - accuracy: 0.9838 - val_loss: 1.5533 - val_accuracy: 0.6609\n",
            "Epoch 30/50\n",
            "106/106 [==============================] - 2s 23ms/step - loss: 0.1358 - accuracy: 0.9511 - val_loss: 1.6129 - val_accuracy: 0.6589\n",
            "Epoch 31/50\n",
            "106/106 [==============================] - 2s 22ms/step - loss: 0.0764 - accuracy: 0.9861 - val_loss: 1.6966 - val_accuracy: 0.6561\n",
            "Epoch 32/50\n",
            "106/106 [==============================] - 2s 22ms/step - loss: 0.0652 - accuracy: 0.9876 - val_loss: 1.7097 - val_accuracy: 0.6637\n",
            "Epoch 33/50\n",
            "106/106 [==============================] - 2s 22ms/step - loss: 0.0570 - accuracy: 0.9917 - val_loss: 1.7335 - val_accuracy: 0.6644\n",
            "Epoch 34/50\n",
            "106/106 [==============================] - 2s 22ms/step - loss: 0.0523 - accuracy: 0.9923 - val_loss: 1.7490 - val_accuracy: 0.6651\n",
            "Epoch 35/50\n",
            "106/106 [==============================] - 2s 22ms/step - loss: 0.0475 - accuracy: 0.9932 - val_loss: 1.7671 - val_accuracy: 0.6678\n",
            "Epoch 36/50\n",
            "106/106 [==============================] - 2s 22ms/step - loss: 0.0437 - accuracy: 0.9932 - val_loss: 1.7982 - val_accuracy: 0.6664\n",
            "Epoch 37/50\n",
            "106/106 [==============================] - 2s 22ms/step - loss: 0.0390 - accuracy: 0.9944 - val_loss: 1.8330 - val_accuracy: 0.6678\n",
            "Epoch 38/50\n",
            "106/106 [==============================] - 2s 22ms/step - loss: 0.0440 - accuracy: 0.9929 - val_loss: 1.9052 - val_accuracy: 0.6589\n",
            "Epoch 39/50\n",
            "106/106 [==============================] - 2s 23ms/step - loss: 0.0455 - accuracy: 0.9923 - val_loss: 1.8082 - val_accuracy: 0.6747\n",
            "Epoch 40/50\n",
            "106/106 [==============================] - 2s 22ms/step - loss: 0.0512 - accuracy: 0.9917 - val_loss: 1.8812 - val_accuracy: 0.6685\n",
            "Epoch 41/50\n",
            "106/106 [==============================] - 2s 22ms/step - loss: 0.1451 - accuracy: 0.9631 - val_loss: 1.7077 - val_accuracy: 0.6843\n",
            "Epoch 42/50\n",
            "106/106 [==============================] - 2s 22ms/step - loss: 0.1069 - accuracy: 0.9758 - val_loss: 2.1208 - val_accuracy: 0.6272\n",
            "Epoch 43/50\n",
            "106/106 [==============================] - 2s 22ms/step - loss: 0.4205 - accuracy: 0.8405 - val_loss: 1.5571 - val_accuracy: 0.5997\n",
            "Epoch 44/50\n",
            "106/106 [==============================] - 2s 22ms/step - loss: 0.2143 - accuracy: 0.9145 - val_loss: 1.5095 - val_accuracy: 0.6307\n",
            "Epoch 45/50\n",
            "106/106 [==============================] - 2s 22ms/step - loss: 0.1417 - accuracy: 0.9449 - val_loss: 1.5134 - val_accuracy: 0.6527\n",
            "Epoch 46/50\n",
            "106/106 [==============================] - 2s 22ms/step - loss: 0.1158 - accuracy: 0.9608 - val_loss: 1.5739 - val_accuracy: 0.6541\n",
            "Epoch 47/50\n",
            "106/106 [==============================] - 2s 22ms/step - loss: 0.1037 - accuracy: 0.9682 - val_loss: 1.6228 - val_accuracy: 0.6534\n",
            "Epoch 48/50\n",
            "106/106 [==============================] - 2s 22ms/step - loss: 0.0958 - accuracy: 0.9723 - val_loss: 1.6462 - val_accuracy: 0.6554\n",
            "Epoch 49/50\n",
            "106/106 [==============================] - 2s 23ms/step - loss: 0.0855 - accuracy: 0.9776 - val_loss: 1.6974 - val_accuracy: 0.6589\n",
            "Epoch 50/50\n",
            "106/106 [==============================] - 2s 22ms/step - loss: 0.0753 - accuracy: 0.9817 - val_loss: 1.7222 - val_accuracy: 0.6582\n"
          ]
        }
      ]
    },
    {
      "cell_type": "code",
      "source": [
        "plt.title('Loss of Model')\n",
        "plt.plot(r.history['val_loss'], label='Validation Loss')\n",
        "plt.plot(r.history['loss'], label='Training Loss')"
      ],
      "metadata": {
        "colab": {
          "base_uri": "https://localhost:8080/",
          "height": 298
        },
        "id": "NPLYy_NrFyES",
        "outputId": "4e975c12-a200-42cb-871c-30b013e3b847"
      },
      "execution_count": 129,
      "outputs": [
        {
          "output_type": "execute_result",
          "data": {
            "text/plain": [
              "[<matplotlib.lines.Line2D at 0x7f406378c4d0>]"
            ]
          },
          "metadata": {},
          "execution_count": 129
        },
        {
          "output_type": "display_data",
          "data": {
            "text/plain": [
              "<Figure size 432x288 with 1 Axes>"
            ],
            "image/png": "[encoded data removed]"
          },
          "metadata": {
            "needs_background": "light"
          }
        }
      ]
    },
    {
      "cell_type": "code",
      "source": [
        "plt.title('Accuracy of Model')\n",
        "plt.plot(r.history['val_accuracy'], label='Validation Accuracy')\n",
        "plt.plot(r.history['accuracy'], label='Training Accuracy')"
      ],
      "metadata": {
        "colab": {
          "base_uri": "https://localhost:8080/",
          "height": 298
        },
        "id": "gX3EdrwoJUkK",
        "outputId": "1dc5aa7a-1cb2-42dc-efab-589e00f5cf63"
      },
      "execution_count": 130,
      "outputs": [
        {
          "output_type": "execute_result",
          "data": {
            "text/plain": [
              "[<matplotlib.lines.Line2D at 0x7f40636ef490>]"
            ]
          },
          "metadata": {},
          "execution_count": 130
        },
        {
          "output_type": "display_data",
          "data": {
            "text/plain": [
              "<Figure size 432x288 with 1 Axes>"
            ],
            "image/png": "[encoded data removed]"
          },
          "metadata": {
            "needs_background": "light"
          }
        }
      ]
    },
    {
      "cell_type": "markdown",
      "source": [
        "MODEL IS OVERFITTED"
      ],
      "metadata": {
        "id": "34KK3rLnJf0W"
      }
    },
    {
      "cell_type": "code",
      "source": [
        "model.predict()"
      ],
      "metadata": {
        "colab": {
          "base_uri": "https://localhost:8080/"
        },
        "id": "naKpZPRcJhbr",
        "outputId": "53e86986-55b5-47c4-9069-df6e1f6e35d7"
      },
      "execution_count": 132,
      "outputs": [
        {
          "output_type": "execute_result",
          "data": {
            "text/plain": [
              "array([[3.8171031e-02, 1.7045335e-01, 7.9137558e-01],\n",
              "       [9.9582690e-01, 1.0341898e-03, 3.1388351e-03],\n",
              "       [9.1387867e-04, 9.9389279e-01, 5.1934063e-03],\n",
              "       ...,\n",
              "       [9.9700564e-01, 4.6792728e-04, 2.5264507e-03],\n",
              "       [1.3424583e-03, 9.9240947e-01, 6.2481100e-03],\n",
              "       [9.9552095e-01, 8.2215032e-04, 3.6568476e-03]], dtype=float32)"
            ]
          },
          "metadata": {},
          "execution_count": 132
        }
      ]
    },
    {
      "cell_type": "code",
      "source": [
        "ex = data_test[3:4,]\n",
        "ex_in_sent = Y_test[3]\n",
        "print(f'Sequence : {ex} vs Sentiment : {ex_in_sent}')"
      ],
      "metadata": {
        "colab": {
          "base_uri": "https://localhost:8080/"
        },
        "id": "YI2o9RwRJqPX",
        "outputId": "b233b972-078e-45c9-bd72-16912cbd3c58"
      },
      "execution_count": 154,
      "outputs": [
        {
          "output_type": "stream",
          "name": "stdout",
          "text": [
            "Sequence : [[  88  274   11 1064 3755   13 2644   64  622    5   64  622    0    0\n",
            "     0    0    0    0    0    0    0    0    0    0    0    0    0    0\n",
            "     0    0    0    0    0    0    0    0    0    0    0    0    0    0\n",
            "     0    0    0    0    0    0    0    0    0    0    0    0    0    0\n",
            "     0    0    0    0    0    0    0    0    0    0    0    0    0    0\n",
            "     0]] vs Sentiment : 1\n"
          ]
        }
      ]
    },
    {
      "cell_type": "code",
      "source": [
        "p = model.predict(ex)\n",
        "print(f'Result is {np.argmax(p)}')"
      ],
      "metadata": {
        "colab": {
          "base_uri": "https://localhost:8080/"
        },
        "id": "RgEfcXPvJ35I",
        "outputId": "366b8933-e782-4ced-c969-c5730a25a6f2"
      },
      "execution_count": 158,
      "outputs": [
        {
          "output_type": "stream",
          "name": "stdout",
          "text": [
            "Result is 1\n"
          ]
        }
      ]
    },
    {
      "cell_type": "code",
      "source": [
        ""
      ],
      "metadata": {
        "id": "XVXq3VwZKy-P"
      },
      "execution_count": null,
      "outputs": []
    }
  ]
}