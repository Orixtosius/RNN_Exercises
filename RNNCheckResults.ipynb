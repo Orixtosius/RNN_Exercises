{
  "nbformat": 4,
  "nbformat_minor": 0,
  "metadata": {
    "colab": {
      "name": "RNNCheckResults",
      "provenance": [],
      "authorship_tag": "ABX9TyN1tUf3GASFexOohOPQR/Xd",
      "include_colab_link": true
    },
    "kernelspec": {
      "name": "python3",
      "display_name": "Python 3"
    },
    "language_info": {
      "name": "python"
    }
  },
  "cells": [
    {
      "cell_type": "markdown",
      "metadata": {
        "id": "view-in-github",
        "colab_type": "text"
      },
      "source": [
        "<a href=\"https://colab.research.google.com/github/Orixtosius/RNN_Exercises/blob/main/RNNCheckResults.ipynb\" target=\"_parent\"><img src=\"https://colab.research.google.com/assets/colab-badge.svg\" alt=\"Open In Colab\"/></a>"
      ]
    },
    {
      "cell_type": "code",
      "execution_count": null,
      "metadata": {
        "id": "6E2n_x8N7qWV"
      },
      "outputs": [],
      "source": [
        "import tensorflow as tf\n",
        "import numpy as np\n",
        "import matplotlib.pyplot as plt"
      ]
    },
    {
      "cell_type": "code",
      "source": [
        "from tensorflow.keras.layers import Dense, Input, SimpleRNN\n",
        "from tensorflow.keras.optimizers import Adam\n",
        "from tensorflow.keras.models import Model"
      ],
      "metadata": {
        "id": "UI3Rq_Fc8ecD"
      },
      "execution_count": null,
      "outputs": []
    },
    {
      "cell_type": "code",
      "source": [
        "N = 5   # number of sample >> M \n",
        "T = 10  # sequence lenght aka. window size\n",
        "D = 2   # number of input features >> NX\n",
        "M = 5   # number of hidden unit\n",
        "K = 2   # number of output units"
      ],
      "metadata": {
        "id": "xaKyfMpG9HdU"
      },
      "execution_count": null,
      "outputs": []
    },
    {
      "cell_type": "code",
      "source": [
        "X = np.random.randn(N, T, D)"
      ],
      "metadata": {
        "id": "LgjcGz21_XkT"
      },
      "execution_count": null,
      "outputs": []
    },
    {
      "cell_type": "code",
      "source": [
        "X.shape"
      ],
      "metadata": {
        "colab": {
          "base_uri": "https://localhost:8080/"
        },
        "id": "g81RgThu_yIT",
        "outputId": "1296534a-7fe1-4294-9a79-3e87d2c39d44"
      },
      "execution_count": null,
      "outputs": [
        {
          "output_type": "execute_result",
          "data": {
            "text/plain": [
              "(5, 10, 2)"
            ]
          },
          "metadata": {},
          "execution_count": 40
        }
      ]
    },
    {
      "cell_type": "code",
      "source": [
        "Temp = X.reshape(-1,1)\n",
        "plt.plot(Temp, label = 'X values')"
      ],
      "metadata": {
        "colab": {
          "base_uri": "https://localhost:8080/",
          "height": 282
        },
        "id": "HoPfsxmt_etZ",
        "outputId": "2a5d8aa3-4336-4a13-d4fa-ab1146dfc98d"
      },
      "execution_count": null,
      "outputs": [
        {
          "output_type": "execute_result",
          "data": {
            "text/plain": [
              "[<matplotlib.lines.Line2D at 0x7fc50fb68610>]"
            ]
          },
          "metadata": {},
          "execution_count": 41
        },
        {
          "output_type": "display_data",
          "data": {
            "text/plain": [
              "<Figure size 432x288 with 1 Axes>"
            ],
            "image/png": "[encoded data removed]"
          },
          "metadata": {
            "needs_background": "light"
          }
        }
      ]
    },
    {
      "cell_type": "code",
      "source": [
        "model = Model()"
      ],
      "metadata": {
        "id": "Sq4NaTfI99uj"
      },
      "execution_count": null,
      "outputs": []
    },
    {
      "cell_type": "code",
      "source": [
        "i = Input(shape = (T,D))\n",
        "x = SimpleRNN(M)(i)\n",
        "x = Dense(K)(x)\n",
        "model = Model(i,x)"
      ],
      "metadata": {
        "id": "KyZR-oQR-V15"
      },
      "execution_count": null,
      "outputs": []
    },
    {
      "cell_type": "code",
      "source": [
        "Yhat = model.predict(X)"
      ],
      "metadata": {
        "id": "XwPVMN_R-F8r"
      },
      "execution_count": null,
      "outputs": []
    },
    {
      "cell_type": "code",
      "source": [
        "print(Yhat[0])"
      ],
      "metadata": {
        "colab": {
          "base_uri": "https://localhost:8080/"
        },
        "id": "er2IPVIx__Cy",
        "outputId": "1abc58a8-1581-4c41-82fc-c380f200af54"
      },
      "execution_count": null,
      "outputs": [
        {
          "output_type": "stream",
          "name": "stdout",
          "text": [
            "[-0.7313122   0.57596046]\n"
          ]
        }
      ]
    },
    {
      "cell_type": "code",
      "source": [
        "model.summary()"
      ],
      "metadata": {
        "colab": {
          "base_uri": "https://localhost:8080/"
        },
        "id": "pHen5efLABGl",
        "outputId": "bd6a37bd-ca26-4832-e362-28198be322f1"
      },
      "execution_count": null,
      "outputs": [
        {
          "output_type": "stream",
          "name": "stdout",
          "text": [
            "Model: \"model_4\"\n",
            "_________________________________________________________________\n",
            " Layer (type)                Output Shape              Param #   \n",
            "=================================================================\n",
            " input_3 (InputLayer)        [(None, 10, 2)]           0         \n",
            "                                                                 \n",
            " simple_rnn_2 (SimpleRNN)    (None, 5)                 40        \n",
            "                                                                 \n",
            " dense_2 (Dense)             (None, 2)                 12        \n",
            "                                                                 \n",
            "=================================================================\n",
            "Total params: 52\n",
            "Trainable params: 52\n",
            "Non-trainable params: 0\n",
            "_________________________________________________________________\n"
          ]
        }
      ]
    },
    {
      "cell_type": "code",
      "source": [
        "model.layers[1].get_weights()"
      ],
      "metadata": {
        "colab": {
          "base_uri": "https://localhost:8080/"
        },
        "id": "tErSinhVARgb",
        "outputId": "0037ac1c-937e-41fb-a578-1c37be5ee257"
      },
      "execution_count": null,
      "outputs": [
        {
          "output_type": "execute_result",
          "data": {
            "text/plain": [
              "[array([[-0.85408974,  0.37113178, -0.54801667,  0.05171549,  0.26204658],\n",
              "        [-0.16673112, -0.8865255 ,  0.37972033,  0.06821656,  0.91156316]],\n",
              "       dtype=float32),\n",
              " array([[-0.52489865, -0.60513717, -0.1325726 , -0.5710588 ,  0.12085893],\n",
              "        [ 0.11069419, -0.5295144 , -0.59603995,  0.55128056, -0.21951613],\n",
              "        [-0.57444996, -0.03363777,  0.45058537,  0.33295944, -0.5958075 ],\n",
              "        [ 0.61143893, -0.38798785,  0.33370346, -0.33464143, -0.5022598 ],\n",
              "        [-0.09153192,  0.44917417, -0.5592635 , -0.38358107, -0.5744165 ]],\n",
              "       dtype=float32),\n",
              " array([0., 0., 0., 0., 0.], dtype=float32)]"
            ]
          },
          "metadata": {},
          "execution_count": 47
        }
      ]
    },
    {
      "cell_type": "code",
      "source": [
        "a, b, c = model.layers[1].get_weights()\n",
        "print(f\"The values a : {a.shape} /b : {b.shape} /c : {c.shape}\")"
      ],
      "metadata": {
        "colab": {
          "base_uri": "https://localhost:8080/"
        },
        "id": "5l7sLrHfAmMs",
        "outputId": "b54c3f12-b457-4c9c-f5bc-bd8dec7759dc"
      },
      "execution_count": null,
      "outputs": [
        {
          "output_type": "stream",
          "name": "stdout",
          "text": [
            "The values a : (2, 5) /b : (5, 5) /c : (5,)\n"
          ]
        }
      ]
    },
    {
      "cell_type": "code",
      "source": [
        "x,y  = model.layers[2].get_weights()\n",
        "print(f\"The values x : {x.shape} /y : {y.shape}\")"
      ],
      "metadata": {
        "colab": {
          "base_uri": "https://localhost:8080/"
        },
        "id": "crC43gZzAt_X",
        "outputId": "296e841a-f96a-47ce-85b0-750a2eedf95f"
      },
      "execution_count": null,
      "outputs": [
        {
          "output_type": "stream",
          "name": "stdout",
          "text": [
            "The values x : (5, 2) /y : (2,)\n"
          ]
        }
      ]
    },
    {
      "cell_type": "code",
      "source": [
        "Wxh, Whh, bh = model.layers[1].get_weights()\n",
        "Wo, bo = model.layers[2].get_weights()"
      ],
      "metadata": {
        "id": "zf_ezRYzHiBl"
      },
      "execution_count": null,
      "outputs": []
    },
    {
      "cell_type": "code",
      "source": [
        "h_last = np.zeros(M)\n",
        "x = X[0]\n",
        "Y_hat = []\n",
        "\n",
        "for t in range(T):\n",
        "  ht = np.tanh (x[t].dot(Wxh) + h_last.dot(Whh) + bh)\n",
        "  y_hat_t = ht.dot(Wo) + bo\n",
        "  Y_hat.append(y_hat_t)\n",
        "  h_last = ht\n",
        "\n",
        "print(Y_hat[-1])"
      ],
      "metadata": {
        "colab": {
          "base_uri": "https://localhost:8080/"
        },
        "id": "tkWwwDD9IBLd",
        "outputId": "586aab93-d462-49bc-a10a-dcfa855d9b7b"
      },
      "execution_count": null,
      "outputs": [
        {
          "output_type": "stream",
          "name": "stdout",
          "text": [
            "[-0.73131231  0.57596055]\n"
          ]
        }
      ]
    },
    {
      "cell_type": "code",
      "source": [
        ""
      ],
      "metadata": {
        "id": "3DdTh1XUKeZi"
      },
      "execution_count": null,
      "outputs": []
    }
  ]
}